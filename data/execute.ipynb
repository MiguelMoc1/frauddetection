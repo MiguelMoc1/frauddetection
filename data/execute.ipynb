import os

# Crear carpeta 'data' si no existe
os.makedirs("data", exist_ok=True)

# Descargar y descomprimir el dataset desde Kaggle
!kaggle datasets download -d amanalisiddiqui/fraud-detection-dataset -p data --unzip
